{
 "cells": [
  {
   "cell_type": "code",
   "execution_count": 12,
   "metadata": {},
   "outputs": [],
   "source": [
    "#import standard libraries\n",
    "import os\n",
    "from typing import List\n",
    "import json\n",
    "import logging "
   ]
  },
  {
   "cell_type": "code",
   "execution_count": 1,
   "metadata": {},
   "outputs": [
    {
     "name": "stderr",
     "output_type": "stream",
     "text": [
      "c:\\Windows\\System32\\Knowledgenow\\env\\lib\\site-packages\\pinecone\\data\\index.py:1: TqdmWarning: IProgress not found. Please update jupyter and ipywidgets. See https://ipywidgets.readthedocs.io/en/stable/user_install.html\n",
      "  from tqdm.autonotebook import tqdm\n"
     ]
    }
   ],
   "source": [
    "#import Langchain Lbraries\n",
    "from langchain_community.document_loaders import TextLoader, DirectoryLoader\n",
    "from langchain.text_splitter import RecursiveCharacterTextSplitter\n",
    "from langchain.embeddings import OpenAIEmbeddings\n",
    "from langchain.vectorstores import Pinecone\n",
    "from langchain.chains import RetrievalQA\n",
    "from langchain.prompts import PromptTemplate, ChatPromptTemplate, HumanMessagePromptTemplate\n",
    "from langchain_core.messages import SystemMessage\n",
    "from langchain.memory import ConversationBufferWindowMemory\n",
    "from langchain.tools.retriever import create_retriever_tool\n",
    "from langchain.chains import RetrievalQAWithSourcesChain\n",
    "from langchain_experimental.text_splitter import SemanticChunker\n",
    "from langchain.tools import tool\n",
    "from langchain.agents import create_react_agent\n",
    "from langsmith import Client\n",
    "from langchain_core.output_parsers import StrOutputParser\n",
    "from langchain_openai import ChatOpenAI\n",
    "from langchain.agents import AgentExecutor\n",
    "from langchain_core.output_parsers import JsonOutputParser\n",
    "from langchain_core.pydantic_v1 import BaseModel, Field, validator\n",
    "from langchain. retrievers.multi_query import MultiQueryRetriever\n",
    "from langchain_core.messages.human import HumanMessage\n",
    "from langchain.memory import ConversationBufferMemory\n",
    "\n"
   ]
  },
  {
   "cell_type": "code",
   "execution_count": 33,
   "metadata": {},
   "outputs": [],
   "source": [
    "#import pinecone libraries\n",
    "import pinecone\n",
    "from langchain_pinecone import PineconeVectorStore"
   ]
  },
  {
   "cell_type": "code",
   "execution_count": 34,
   "metadata": {},
   "outputs": [],
   "source": [
    "#import utilis\n",
    "from airtable import AirTable"
   ]
  },
  {
   "cell_type": "code",
   "execution_count": 35,
   "metadata": {},
   "outputs": [],
   "source": [
    "#import secret keys\n",
    "from dotenv import load_dotenv \n",
    "load_dotenv()\n",
    "openai_api_key = os.getenv(\"OPENAI_API_KEY\")\n",
    "pine_cone_api = os.getenv(\"PINECONE_API_KEY\")"
   ]
  },
  {
   "cell_type": "code",
   "execution_count": 36,
   "metadata": {},
   "outputs": [],
   "source": [
    "#setup Langsmith for debugging\n",
    "from uuid import uuid4\n",
    "\n",
    "unique_id = uuid4().hex[0:8]\n",
    "os.environ[\"LANGCHAIN_TRACING_V2\"] = \"true\"\n",
    "os.environ[\"LANGCHAIN_PROJECT\"] = f\"Tracing Walkthrough - {unique_id}\"\n",
    "os.environ[\"LANGCHAIN_ENDPOINT\"] = \"https://api.smith.langchain.com\"\n",
    "os.environ[\"LANGCHAIN_API_KEY\"] = \"ls__c4c7a9772ef046038636017b03b5f17b\""
   ]
  },
  {
   "cell_type": "code",
   "execution_count": 37,
   "metadata": {},
   "outputs": [],
   "source": [
    "Langsmith_client = Client()"
   ]
  },
  {
   "cell_type": "code",
   "execution_count": 66,
   "metadata": {},
   "outputs": [
    {
     "data": {
      "text/plain": [
       "<module 'prompts.prompts_2024_03_26' from 'c:\\\\Windows\\\\System32\\\\Knowledgenow\\\\prompts\\\\prompts_2024_03_26.py'>"
      ]
     },
     "execution_count": 66,
     "metadata": {},
     "output_type": "execute_result"
    }
   ],
   "source": [
    "from importlib import reload\n",
    "import prompts.prompts_2024_03_26 as prompts\n",
    "reload(prompts)\n",
    "\n"
   ]
  },
  {
   "cell_type": "code",
   "execution_count": 91,
   "metadata": {},
   "outputs": [
    {
     "name": "stdout",
     "output_type": "stream",
     "text": [
      "\n",
      "        To post data to the Airtable table.\n",
      "        Args:\n",
      "            data (dict): A dictionary with the format `{'column_name': data_to_post, ...}`.\n",
      "        \n",
      "        Keys for dictionary:\n",
      "              {\n",
      "                name_of_dev: \"\",\n",
      "                model_name: \"\",\n",
      "                human_prompt: \"\",\n",
      "                global_context: \"\",\n",
      "                context_entrichment_agent_system_prompt: \"\",\n",
      "                enriched_prompt_output: \"\",\n",
      "                rag_extractor_agent_system_prompt: \"\",\n",
      "                rag_optimized_queries_output: \"\",\n",
      "                total_chunks_retrieved: \"\",\n",
      "                chunk_size: \"\",\n",
      "                knowledge_base_docs_list: \"\",\n",
      "                evaluator_agent_system_prompt: \"\",\n",
      "                reranked_rag_queries_output: \"\",\n",
      "                answer_agent_system_prompt: \"\",\n",
      "                final_answer_to_user: \"\"\n",
      "              }\n",
      "        \n",
      "data posted to Airtable successfully.\n"
     ]
    }
   ],
   "source": [
    "airtable = AirTable()\n",
    "airtable.post_data_to_table(data={\"name_of_dev\": \"\",\n",
    "                \"model_name\": \"\",\n",
    "                \"human_prompt\": \"\",\n",
    "                \"global_context\": \"\",\n",
    "                \"context_entrichment_agent_system_prompt\": \"\",\n",
    "                \"enriched_prompt_output\": \"\",\n",
    "                \"rag_extractor_agent_system_prompt\": \"\",\n",
    "                \"rag_optimized_queries_output\": \"\",\n",
    "                \"total_chunks_retrieved\": \"\",\n",
    "                \"chunk_size\": \"\",\n",
    "                \"knowledge_base_docs_list\": \"\",\n",
    "                \"evaluator_agent_system_prompt\": \"\",\n",
    "                \"reranked_rag_queries_output\": \"\",\n",
    "                \"answer_agent_system_prompt\": \"\",\n",
    "                \"final_answer_to_user\": \"\"})\n"
   ]
  },
  {
   "cell_type": "markdown",
   "metadata": {},
   "source": [
    "Context Agent "
   ]
  },
  {
   "cell_type": "code",
   "execution_count": 3,
   "metadata": {},
   "outputs": [],
   "source": [
    "#import global context file \n",
    "with open(\"Fastrise_global_context.txt\", \"r\") as file:\n",
    "    global_context = file.read()"
   ]
  },
  {
   "cell_type": "code",
   "execution_count": 29,
   "metadata": {},
   "outputs": [],
   "source": [
    "@tool\n",
    "def Contextawareness(query:str)-> str:\n",
    "    \"use this tool any time you get question about meetings, tasks, activities in a organization called Fastrise\"\n",
    "    global global_context\n",
    "    return global_context"
   ]
  },
  {
   "cell_type": "code",
   "execution_count": 30,
   "metadata": {},
   "outputs": [],
   "source": [
    "tools = [Contextawareness]"
   ]
  },
  {
   "cell_type": "code",
   "execution_count": 31,
   "metadata": {},
   "outputs": [],
   "source": [
    "#create context_enrichment prompt template\n",
    "\n",
    "context_enrichment_template = prompts.context_enrichment_template\n",
    "\n",
    "context_prompt = PromptTemplate.from_template(template=context_enrichment_template, MessagePlaceholder=[\"(agent_scratchpad)\"])\n",
    "\n"
   ]
  },
  {
   "cell_type": "code",
   "execution_count": 38,
   "metadata": {},
   "outputs": [],
   "source": [
    "#initiaze language models\n",
    "llm  = ChatOpenAI(\n",
    "    openai_api_key=openai_api_key, \n",
    "    model=\"gpt-4-turbo-preview\", \n",
    "    temperature= 0.0\n",
    "    )"
   ]
  },
  {
   "cell_type": "code",
   "execution_count": 39,
   "metadata": {},
   "outputs": [],
   "source": [
    "\n",
    "context_agent = create_react_agent(llm=llm, \n",
    "                           tools=tools, \n",
    "                           prompt=context_prompt)"
   ]
  },
  {
   "cell_type": "code",
   "execution_count": 40,
   "metadata": {},
   "outputs": [],
   "source": [
    "context_agent_executor = AgentExecutor(\n",
    "    agent=context_agent, \n",
    "    tools=tools, \n",
    "    verbose=True, \n",
    "    handle_parsing_errors=True, \n",
    "    )"
   ]
  },
  {
   "cell_type": "code",
   "execution_count": 41,
   "metadata": {},
   "outputs": [
    {
     "name": "stdout",
     "output_type": "stream",
     "text": [
      "\n",
      "\n",
      "\u001b[1m> Entering new AgentExecutor chain...\u001b[0m\n",
      "\u001b[32;1m\u001b[1;3mQuestion: what did Alejo and Bartek discuss in the meeting\n",
      "Thought: To enrich this prompt, I need to understand the context of Alejo and Bartek's roles within Fasterise, the projects they are involved in, and any recent organizational goals or challenges that might influence the topics of their discussion.\n",
      "Action: Contextawareness\n",
      "Action Input: Alejo and Bartek meeting discussion topics\u001b[0m\u001b[36;1m\u001b[1;3m### Mission and Vision\n",
      "- *Mission and Vision*: Fasterise is centered around leveraging AI technology to amplify human potential, prioritizing ethical AI development that enriches human capabilities. The company envisions a future where AI solutions address societal needs and business challenges while augmenting the human potential and keeping it at the center of the system.\n",
      "### Team Structure and Roles\n",
      "- *Henry*: Brings AI and entrepreneurial insights, contributing significantly to the team's innovative capabilities in AI and LangChain.\n",
      "- *Zach*: Offers sales expertise and a keen sense for impactful business development, essential for guiding the company's market direction.\n",
      "- *Paige*: With a background in education and a focus on ethical AI, Paige drives the mission, marketing vision, and operational strategies of the company.\n",
      "- *Pawel*: Provides business analysis and client-facing skills, ensuring professional and confident representation of Fasterise's image.\n",
      "- *Bartek*: Leads in engineering with expertise in Prompt Engineering and AI Agents, and a focus on system design and test-driven development, enhancing the company's technical rigor.\n",
      "- *Alejo*: Plays a key role in Operations, Sales, and Development. In development, Alejo focuses on developer guidance through Scrums, making the vision of the company more tangible into projects with a particular emphasis on AI technologies like RAG, LLMs and Multi-Agent Systems.\n",
      "- *Hubi*: is diving into Python, LangChain and RAG. He has experience in front end development.\n",
      "- *Jorg*: Contributes to social media content and marketing campaigns, showcasing the company's solutions through various platforms.\n",
      "- *Kuba*: has played a key role in LangChain and RAG efforts, creating the first versions of the Pinecone Vector Database chat and the Personalized Outreach System.\n",
      "### Projects and Operations\n",
      "- *Completed Projects*: Highlight projects like the Ski Chalet Concierge, Scheduler Assistant, and Lead Qualifier, which exemplify Fasterise's commitment to enhancing operational efficiency and customer experience through AI.\n",
      "- *Current Projects*: Emphasize the development of innovative solutions like the Zoom Transcriber to Pinecone Integration, Knowledge Base Builder called KnowledgeNow, Personalized Outreach System, Administrative Automation Tools, and Real Estate-focused AI Solutions. These projects aim to integrate AI across various industries, improving efficiency and amplifying human capabilities.\n",
      "- *Future Direction*: Focus on continuous exploration of AI applications, with a commitment to adapting to technological advancements and exploring areas where AI can have a transformative societal impact, keeping empowerement and education at the forefront of the company's mission.\n",
      "### Company Culture and Values\n",
      "- *Profit-Sharing and Collaboration*: All team members are co-founders, with a profit-sharing structure and collective decision-making. The company culture promotes innovation, ethical business practices, and a shared vision for the impact of AI technology.\n",
      "- *Ethical and Human-Centered Approach*: A foundational commitment to developing AI solutions that align with ethical standards, enhance rather than replace human work, and focus on amplifying human capabilities.\n",
      "### Innovations and Products\n",
      "- *Technological Innovations*: AI-driven products, including AI solutions for real estate, personalized outreach, and KnowledgeNow. High technological sophistication and human-centered design of products like automated CRM and calendar systems, which facilitate better interactions with leads and clients.\n",
      "### Conclusion\n",
      "Fasterise stands out for its innovative approach to AI technology, with a strong emphasis on ethical development, collaborative innovation, and a culture of shared success. Through a diverse range of projects, the company showcases its capability to address complex challenges across various sectors, aiming for a significant societal impact and leading by example in the ethical use and development of AI.\n",
      "\u001b[0m\u001b[32;1m\u001b[1;3mQuestion: what did Alejo and Bartek discuss in the meeting\n",
      "Thought: To enrich this prompt, I need to understand the context of Alejo and Bartek's roles within Fasterise, the projects they are involved in, and any recent organizational goals or challenges that might influence the topics of their discussion.\n",
      "Action: Contextawareness\n",
      "Action Input: Alejo and Bartek meeting discussion topics\u001b[0m\u001b[36;1m\u001b[1;3m### Mission and Vision\n",
      "- *Mission and Vision*: Fasterise is centered around leveraging AI technology to amplify human potential, prioritizing ethical AI development that enriches human capabilities. The company envisions a future where AI solutions address societal needs and business challenges while augmenting the human potential and keeping it at the center of the system.\n",
      "### Team Structure and Roles\n",
      "- *Henry*: Brings AI and entrepreneurial insights, contributing significantly to the team's innovative capabilities in AI and LangChain.\n",
      "- *Zach*: Offers sales expertise and a keen sense for impactful business development, essential for guiding the company's market direction.\n",
      "- *Paige*: With a background in education and a focus on ethical AI, Paige drives the mission, marketing vision, and operational strategies of the company.\n",
      "- *Pawel*: Provides business analysis and client-facing skills, ensuring professional and confident representation of Fasterise's image.\n",
      "- *Bartek*: Leads in engineering with expertise in Prompt Engineering and AI Agents, and a focus on system design and test-driven development, enhancing the company's technical rigor.\n",
      "- *Alejo*: Plays a key role in Operations, Sales, and Development. In development, Alejo focuses on developer guidance through Scrums, making the vision of the company more tangible into projects with a particular emphasis on AI technologies like RAG, LLMs and Multi-Agent Systems.\n",
      "- *Hubi*: is diving into Python, LangChain and RAG. He has experience in front end development.\n",
      "- *Jorg*: Contributes to social media content and marketing campaigns, showcasing the company's solutions through various platforms.\n",
      "- *Kuba*: has played a key role in LangChain and RAG efforts, creating the first versions of the Pinecone Vector Database chat and the Personalized Outreach System.\n",
      "### Projects and Operations\n",
      "- *Completed Projects*: Highlight projects like the Ski Chalet Concierge, Scheduler Assistant, and Lead Qualifier, which exemplify Fasterise's commitment to enhancing operational efficiency and customer experience through AI.\n",
      "- *Current Projects*: Emphasize the development of innovative solutions like the Zoom Transcriber to Pinecone Integration, Knowledge Base Builder called KnowledgeNow, Personalized Outreach System, Administrative Automation Tools, and Real Estate-focused AI Solutions. These projects aim to integrate AI across various industries, improving efficiency and amplifying human capabilities.\n",
      "- *Future Direction*: Focus on continuous exploration of AI applications, with a commitment to adapting to technological advancements and exploring areas where AI can have a transformative societal impact, keeping empowerement and education at the forefront of the company's mission.\n",
      "### Company Culture and Values\n",
      "- *Profit-Sharing and Collaboration*: All team members are co-founders, with a profit-sharing structure and collective decision-making. The company culture promotes innovation, ethical business practices, and a shared vision for the impact of AI technology.\n",
      "- *Ethical and Human-Centered Approach*: A foundational commitment to developing AI solutions that align with ethical standards, enhance rather than replace human work, and focus on amplifying human capabilities.\n",
      "### Innovations and Products\n",
      "- *Technological Innovations*: AI-driven products, including AI solutions for real estate, personalized outreach, and KnowledgeNow. High technological sophistication and human-centered design of products like automated CRM and calendar systems, which facilitate better interactions with leads and clients.\n",
      "### Conclusion\n",
      "Fasterise stands out for its innovative approach to AI technology, with a strong emphasis on ethical development, collaborative innovation, and a culture of shared success. Through a diverse range of projects, the company showcases its capability to address complex challenges across various sectors, aiming for a significant societal impact and leading by example in the ethical use and development of AI.\n",
      "\u001b[0m\u001b[32;1m\u001b[1;3mQuestion: what did Alejo and Bartek discuss in the meeting\n",
      "Thought: Given the roles of Alejo and Bartek within Fasterise, focusing on Operations, Sales, Development, and Engineering respectively, and considering the company's current projects and strategic goals, it's likely their discussion revolved around the integration of AI technologies in ongoing projects, possibly touching on the development of KnowledgeNow, Personalized Outreach System, or the Zoom Transcriber to Pinecone Integration. Their conversation might have also included operational strategies to enhance project efficiency, technical challenges in current developments, or ways to align these projects with Fasterise's mission of leveraging AI to amplify human potential while adhering to ethical AI development principles.\n",
      "Action: Contextawareness\n",
      "Action Input: Alejo and Bartek meeting discussion topics\u001b[0m\u001b[36;1m\u001b[1;3m### Mission and Vision\n",
      "- *Mission and Vision*: Fasterise is centered around leveraging AI technology to amplify human potential, prioritizing ethical AI development that enriches human capabilities. The company envisions a future where AI solutions address societal needs and business challenges while augmenting the human potential and keeping it at the center of the system.\n",
      "### Team Structure and Roles\n",
      "- *Henry*: Brings AI and entrepreneurial insights, contributing significantly to the team's innovative capabilities in AI and LangChain.\n",
      "- *Zach*: Offers sales expertise and a keen sense for impactful business development, essential for guiding the company's market direction.\n",
      "- *Paige*: With a background in education and a focus on ethical AI, Paige drives the mission, marketing vision, and operational strategies of the company.\n",
      "- *Pawel*: Provides business analysis and client-facing skills, ensuring professional and confident representation of Fasterise's image.\n",
      "- *Bartek*: Leads in engineering with expertise in Prompt Engineering and AI Agents, and a focus on system design and test-driven development, enhancing the company's technical rigor.\n",
      "- *Alejo*: Plays a key role in Operations, Sales, and Development. In development, Alejo focuses on developer guidance through Scrums, making the vision of the company more tangible into projects with a particular emphasis on AI technologies like RAG, LLMs and Multi-Agent Systems.\n",
      "- *Hubi*: is diving into Python, LangChain and RAG. He has experience in front end development.\n",
      "- *Jorg*: Contributes to social media content and marketing campaigns, showcasing the company's solutions through various platforms.\n",
      "- *Kuba*: has played a key role in LangChain and RAG efforts, creating the first versions of the Pinecone Vector Database chat and the Personalized Outreach System.\n",
      "### Projects and Operations\n",
      "- *Completed Projects*: Highlight projects like the Ski Chalet Concierge, Scheduler Assistant, and Lead Qualifier, which exemplify Fasterise's commitment to enhancing operational efficiency and customer experience through AI.\n",
      "- *Current Projects*: Emphasize the development of innovative solutions like the Zoom Transcriber to Pinecone Integration, Knowledge Base Builder called KnowledgeNow, Personalized Outreach System, Administrative Automation Tools, and Real Estate-focused AI Solutions. These projects aim to integrate AI across various industries, improving efficiency and amplifying human capabilities.\n",
      "- *Future Direction*: Focus on continuous exploration of AI applications, with a commitment to adapting to technological advancements and exploring areas where AI can have a transformative societal impact, keeping empowerement and education at the forefront of the company's mission.\n",
      "### Company Culture and Values\n",
      "- *Profit-Sharing and Collaboration*: All team members are co-founders, with a profit-sharing structure and collective decision-making. The company culture promotes innovation, ethical business practices, and a shared vision for the impact of AI technology.\n",
      "- *Ethical and Human-Centered Approach*: A foundational commitment to developing AI solutions that align with ethical standards, enhance rather than replace human work, and focus on amplifying human capabilities.\n",
      "### Innovations and Products\n",
      "- *Technological Innovations*: AI-driven products, including AI solutions for real estate, personalized outreach, and KnowledgeNow. High technological sophistication and human-centered design of products like automated CRM and calendar systems, which facilitate better interactions with leads and clients.\n",
      "### Conclusion\n",
      "Fasterise stands out for its innovative approach to AI technology, with a strong emphasis on ethical development, collaborative innovation, and a culture of shared success. Through a diverse range of projects, the company showcases its capability to address complex challenges across various sectors, aiming for a significant societal impact and leading by example in the ethical use and development of AI.\n",
      "\u001b[0m\u001b[32;1m\u001b[1;3mQuestion: what did Alejo and Bartek discuss in the meeting\n",
      "Thought: Given the roles of Alejo and Bartek within Fasterise, focusing on Operations, Sales, Development, and Engineering respectively, and considering the company's current projects and strategic goals, it's likely their discussion revolved around the integration of AI technologies in ongoing projects, possibly touching on the development of KnowledgeNow, Personalized Outreach System, or the Zoom Transcriber to Pinecone Integration. Their conversation might have also included operational strategies to enhance project efficiency, technical challenges in current developments, or ways to align these projects with Fasterise's mission of leveraging AI to amplify human potential while adhering to ethical AI development principles.\n",
      "Action: Contextawareness\n",
      "Action Input: Alejo and Bartek meeting discussion topics\u001b[0m\u001b[36;1m\u001b[1;3m### Mission and Vision\n",
      "- *Mission and Vision*: Fasterise is centered around leveraging AI technology to amplify human potential, prioritizing ethical AI development that enriches human capabilities. The company envisions a future where AI solutions address societal needs and business challenges while augmenting the human potential and keeping it at the center of the system.\n",
      "### Team Structure and Roles\n",
      "- *Henry*: Brings AI and entrepreneurial insights, contributing significantly to the team's innovative capabilities in AI and LangChain.\n",
      "- *Zach*: Offers sales expertise and a keen sense for impactful business development, essential for guiding the company's market direction.\n",
      "- *Paige*: With a background in education and a focus on ethical AI, Paige drives the mission, marketing vision, and operational strategies of the company.\n",
      "- *Pawel*: Provides business analysis and client-facing skills, ensuring professional and confident representation of Fasterise's image.\n",
      "- *Bartek*: Leads in engineering with expertise in Prompt Engineering and AI Agents, and a focus on system design and test-driven development, enhancing the company's technical rigor.\n",
      "- *Alejo*: Plays a key role in Operations, Sales, and Development. In development, Alejo focuses on developer guidance through Scrums, making the vision of the company more tangible into projects with a particular emphasis on AI technologies like RAG, LLMs and Multi-Agent Systems.\n",
      "- *Hubi*: is diving into Python, LangChain and RAG. He has experience in front end development.\n",
      "- *Jorg*: Contributes to social media content and marketing campaigns, showcasing the company's solutions through various platforms.\n",
      "- *Kuba*: has played a key role in LangChain and RAG efforts, creating the first versions of the Pinecone Vector Database chat and the Personalized Outreach System.\n",
      "### Projects and Operations\n",
      "- *Completed Projects*: Highlight projects like the Ski Chalet Concierge, Scheduler Assistant, and Lead Qualifier, which exemplify Fasterise's commitment to enhancing operational efficiency and customer experience through AI.\n",
      "- *Current Projects*: Emphasize the development of innovative solutions like the Zoom Transcriber to Pinecone Integration, Knowledge Base Builder called KnowledgeNow, Personalized Outreach System, Administrative Automation Tools, and Real Estate-focused AI Solutions. These projects aim to integrate AI across various industries, improving efficiency and amplifying human capabilities.\n",
      "- *Future Direction*: Focus on continuous exploration of AI applications, with a commitment to adapting to technological advancements and exploring areas where AI can have a transformative societal impact, keeping empowerement and education at the forefront of the company's mission.\n",
      "### Company Culture and Values\n",
      "- *Profit-Sharing and Collaboration*: All team members are co-founders, with a profit-sharing structure and collective decision-making. The company culture promotes innovation, ethical business practices, and a shared vision for the impact of AI technology.\n",
      "- *Ethical and Human-Centered Approach*: A foundational commitment to developing AI solutions that align with ethical standards, enhance rather than replace human work, and focus on amplifying human capabilities.\n",
      "### Innovations and Products\n",
      "- *Technological Innovations*: AI-driven products, including AI solutions for real estate, personalized outreach, and KnowledgeNow. High technological sophistication and human-centered design of products like automated CRM and calendar systems, which facilitate better interactions with leads and clients.\n",
      "### Conclusion\n",
      "Fasterise stands out for its innovative approach to AI technology, with a strong emphasis on ethical development, collaborative innovation, and a culture of shared success. Through a diverse range of projects, the company showcases its capability to address complex challenges across various sectors, aiming for a significant societal impact and leading by example in the ethical use and development of AI.\n",
      "\u001b[0m\u001b[32;1m\u001b[1;3mQuestion: what did Alejo and Bartek discuss in the meeting\n",
      "Thought: Given the roles of Alejo and Bartek within Fasterise, focusing on Operations, Sales, Development, and Engineering respectively, and considering the company's current projects and strategic goals, it's likely their discussion revolved around the integration of AI technologies in ongoing projects, possibly touching on the development of KnowledgeNow, Personalized Outreach System, or the Zoom Transcriber to Pinecone Integration. Their conversation might have also included operational strategies to enhance project efficiency, technical challenges in current developments, or ways to align these projects with Fasterise's mission of leveraging AI to amplify human potential while adhering to ethical AI development principles.\n",
      "Action: Contextawareness\n",
      "Action Input: Alejo and Bartek meeting discussion topics\u001b[0m\u001b[36;1m\u001b[1;3m### Mission and Vision\n",
      "- *Mission and Vision*: Fasterise is centered around leveraging AI technology to amplify human potential, prioritizing ethical AI development that enriches human capabilities. The company envisions a future where AI solutions address societal needs and business challenges while augmenting the human potential and keeping it at the center of the system.\n",
      "### Team Structure and Roles\n",
      "- *Henry*: Brings AI and entrepreneurial insights, contributing significantly to the team's innovative capabilities in AI and LangChain.\n",
      "- *Zach*: Offers sales expertise and a keen sense for impactful business development, essential for guiding the company's market direction.\n",
      "- *Paige*: With a background in education and a focus on ethical AI, Paige drives the mission, marketing vision, and operational strategies of the company.\n",
      "- *Pawel*: Provides business analysis and client-facing skills, ensuring professional and confident representation of Fasterise's image.\n",
      "- *Bartek*: Leads in engineering with expertise in Prompt Engineering and AI Agents, and a focus on system design and test-driven development, enhancing the company's technical rigor.\n",
      "- *Alejo*: Plays a key role in Operations, Sales, and Development. In development, Alejo focuses on developer guidance through Scrums, making the vision of the company more tangible into projects with a particular emphasis on AI technologies like RAG, LLMs and Multi-Agent Systems.\n",
      "- *Hubi*: is diving into Python, LangChain and RAG. He has experience in front end development.\n",
      "- *Jorg*: Contributes to social media content and marketing campaigns, showcasing the company's solutions through various platforms.\n",
      "- *Kuba*: has played a key role in LangChain and RAG efforts, creating the first versions of the Pinecone Vector Database chat and the Personalized Outreach System.\n",
      "### Projects and Operations\n",
      "- *Completed Projects*: Highlight projects like the Ski Chalet Concierge, Scheduler Assistant, and Lead Qualifier, which exemplify Fasterise's commitment to enhancing operational efficiency and customer experience through AI.\n",
      "- *Current Projects*: Emphasize the development of innovative solutions like the Zoom Transcriber to Pinecone Integration, Knowledge Base Builder called KnowledgeNow, Personalized Outreach System, Administrative Automation Tools, and Real Estate-focused AI Solutions. These projects aim to integrate AI across various industries, improving efficiency and amplifying human capabilities.\n",
      "- *Future Direction*: Focus on continuous exploration of AI applications, with a commitment to adapting to technological advancements and exploring areas where AI can have a transformative societal impact, keeping empowerement and education at the forefront of the company's mission.\n",
      "### Company Culture and Values\n",
      "- *Profit-Sharing and Collaboration*: All team members are co-founders, with a profit-sharing structure and collective decision-making. The company culture promotes innovation, ethical business practices, and a shared vision for the impact of AI technology.\n",
      "- *Ethical and Human-Centered Approach*: A foundational commitment to developing AI solutions that align with ethical standards, enhance rather than replace human work, and focus on amplifying human capabilities.\n",
      "### Innovations and Products\n",
      "- *Technological Innovations*: AI-driven products, including AI solutions for real estate, personalized outreach, and KnowledgeNow. High technological sophistication and human-centered design of products like automated CRM and calendar systems, which facilitate better interactions with leads and clients.\n",
      "### Conclusion\n",
      "Fasterise stands out for its innovative approach to AI technology, with a strong emphasis on ethical development, collaborative innovation, and a culture of shared success. Through a diverse range of projects, the company showcases its capability to address complex challenges across various sectors, aiming for a significant societal impact and leading by example in the ethical use and development of AI.\n",
      "\u001b[0m\u001b[32;1m\u001b[1;3mQuestion: what did Alejo and Bartek discuss in the meeting\n",
      "Thought: Given the roles of Alejo and Bartek within Fasterise, focusing on Operations, Sales, Development, and Engineering respectively, and considering the company's current projects and strategic goals, it's likely their discussion revolved around the integration of AI technologies in ongoing projects, possibly touching on the development of KnowledgeNow, Personalized Outreach System, or the Zoom Transcriber to Pinecone Integration. Their conversation might have also included operational strategies to enhance project efficiency, technical challenges in current developments, or ways to align these projects with Fasterise's mission of leveraging AI to amplify human potential while adhering to ethical AI development principles.\n",
      "Final Answer: In the context of Fasterise's mission to leverage AI technology to amplify human potential and its commitment to ethical AI development, Alejo and Bartek's meeting likely focused on the integration of AI technologies within ongoing projects such as KnowledgeNow, Personalized Outreach System, or the Zoom Transcriber to Pinecone Integration. Discussions may have covered operational strategies to enhance project efficiency, technical challenges in current developments, and aligning these projects with Fasterise's overarching goals.\u001b[0m\n",
      "\n",
      "\u001b[1m> Finished chain.\u001b[0m\n"
     ]
    }
   ],
   "source": [
    "input = \"what did alejo and bartek discuss in the meeting\"\n",
    "\n",
    "context_enriched_output = context_agent_executor.invoke({\"input\": input})"
   ]
  },
  {
   "cell_type": "code",
   "execution_count": 42,
   "metadata": {},
   "outputs": [
    {
     "name": "stdout",
     "output_type": "stream",
     "text": [
      "In the context of Fasterise's mission to leverage AI technology to amplify human potential and its commitment to ethical AI development, Alejo and Bartek's meeting likely focused on the integration of AI technologies within ongoing projects such as KnowledgeNow, Personalized Outreach System, or the Zoom Transcriber to Pinecone Integration. Discussions may have covered operational strategies to enhance project efficiency, technical challenges in current developments, and aligning these projects with Fasterise's overarching goals.\n"
     ]
    }
   ],
   "source": [
    "Enriched_prompt = context_enriched_output[\"output\"]\n",
    "print(Enriched_prompt)"
   ]
  },
  {
   "cell_type": "markdown",
   "metadata": {},
   "source": [
    "RAG EXTRACTOR AGENT\n"
   ]
  },
  {
   "cell_type": "code",
   "execution_count": 43,
   "metadata": {},
   "outputs": [],
   "source": [
    "class sub_query(BaseModel):\n",
    "\n",
    "    sub_queries: list = Field(description=\"\"\"The sub queries extracted from the context_enriched_prompt\"\"\")\n",
    "\n",
    "\n",
    "parser = JsonOutputParser(pydantic_object=sub_query)"
   ]
  },
  {
   "cell_type": "code",
   "execution_count": 44,
   "metadata": {},
   "outputs": [],
   "source": [
    "@tool\n",
    "def context_enriched(rag_query:str)-> str:\n",
    "    \"use this tool any time you need to access context-enriched prompt for creating the sub-queries \"\n",
    "    global Enriched_prompt\n",
    "    return Enriched_prompt"
   ]
  },
  {
   "cell_type": "code",
   "execution_count": 45,
   "metadata": {},
   "outputs": [],
   "source": [
    "tools = [Contextawareness]+[context_enriched]"
   ]
  },
  {
   "cell_type": "code",
   "execution_count": 49,
   "metadata": {},
   "outputs": [],
   "source": [
    "#creating a prompt template\n",
    "\n",
    "rag_template = prompts.rag_template\n",
    "rag_prompt = PromptTemplate.from_template(template=rag_template, MessagePlaceholder=[\"(agent_scratchpad)\"])\n",
    "\n"
   ]
  },
  {
   "cell_type": "code",
   "execution_count": 50,
   "metadata": {},
   "outputs": [],
   "source": [
    "\n",
    "Rag_agent = create_react_agent(llm=llm, tools=tools, prompt=rag_prompt)"
   ]
  },
  {
   "cell_type": "code",
   "execution_count": 51,
   "metadata": {},
   "outputs": [],
   "source": [
    "Rag_agent_executor = AgentExecutor(agent=Rag_agent, tools=tools, verbose=True,handle_parsing_errors=True)"
   ]
  },
  {
   "cell_type": "code",
   "execution_count": 52,
   "metadata": {},
   "outputs": [
    {
     "name": "stdout",
     "output_type": "stream",
     "text": [
      "\n",
      "\n",
      "\u001b[1m> Entering new AgentExecutor chain...\u001b[0m\n"
     ]
    },
    {
     "name": "stdout",
     "output_type": "stream",
     "text": [
      "\u001b[32;1m\u001b[1;3m```json\n",
      "{\n",
      "  \"sub_queries\": [\n",
      "    \"List all topics discussed by Alejo and Bartek in the most recent meeting.\",\n",
      "    \"Extract any action items assigned to Alejo and Bartek from their last meeting.\",\n",
      "    \"Identify any projects or tasks Alejo and Bartek are collaborating on as mentioned in their last meeting.\",\n",
      "    \"Summarize the decisions made by Alejo and Bartek in their recent meeting.\"\n",
      "  ]\n",
      "}\n",
      "```\u001b[0mInvalid Format: Missing 'Action:' after 'Thought:\u001b[32;1m\u001b[1;3m```json\n",
      "{\n",
      "  \"sub_queries\": [\n",
      "    \"List all topics discussed by Alejo and Bartek in the most recent meeting.\",\n",
      "    \"Extract any action items assigned to Alejo and Bartek from their last meeting.\",\n",
      "    \"Identify any projects or tasks Alejo and Bartek are collaborating on as mentioned in their last meeting.\",\n",
      "    \"Summarize the decisions made by Alejo and Bartek in their recent meeting.\"\n",
      "  ]\n",
      "}\n",
      "```\u001b[0mInvalid Format: Missing 'Action:' after 'Thought:\u001b[32;1m\u001b[1;3m```json\n",
      "{\n",
      "  \"sub_queries\": [\n",
      "    \"List all topics discussed by Alejo and Bartek in the most recent meeting.\",\n",
      "    \"Extract any action items assigned to Alejo and Bartek from their last meeting.\",\n",
      "    \"Identify any projects or tasks Alejo and Bartek are collaborating on as mentioned in their last meeting.\",\n",
      "    \"Summarize the decisions made by Alejo and Bartek in their recent meeting.\"\n",
      "  ]\n",
      "}\n",
      "```\u001b[0mInvalid Format: Missing 'Action:' after 'Thought:\u001b[32;1m\u001b[1;3m```json\n",
      "{\n",
      "  \"sub_queries\": [\n",
      "    \"List all topics discussed by Alejo and Bartek in the most recent meeting.\",\n",
      "    \"Extract any action items assigned to Alejo and Bartek from their last meeting.\",\n",
      "    \"Identify any projects or tasks Alejo and Bartek are collaborating on as mentioned in their last meeting.\",\n",
      "    \"Summarize the decisions made by Alejo and Bartek in their recent meeting.\"\n",
      "  ]\n",
      "}\n",
      "```\u001b[0mInvalid Format: Missing 'Action:' after 'Thought:\u001b[32;1m\u001b[1;3mAction: context_enriched\n",
      "Thought: I need to generate sub-queries that align with the user's request about what Alejo and Bartek discussed in their meeting. These sub-queries should be designed to retrieve specific information from the Vector Database Knowledge Base, focusing on meeting topics, action items, collaborative projects or tasks, and decisions made.\n",
      "Final Answer: ```json\n",
      "{\n",
      "  \"sub_queries\": [\n",
      "    \"List all topics discussed by Alejo and Bartek in the most recent meeting.\",\n",
      "    \"Extract any action items assigned to Alejo and Bartek from their last meeting.\",\n",
      "    \"Identify any projects or tasks Alejo and Bartek are collaborating on as mentioned in their last meeting.\",\n",
      "    \"Summarize the decisions made by Alejo and Bartek in their recent meeting.\"\n",
      "  ]\n",
      "}\n",
      "```\u001b[0m\n",
      "\n",
      "\u001b[1m> Finished chain.\u001b[0m\n",
      "{'input': 'what did alejo and bartek discuss in the meeting', 'chat_history': [], 'format_instructions': 'The output should be formatted as a JSON instance that conforms to the JSON schema below.\\n\\nAs an example, for the schema {\"properties\": {\"foo\": {\"title\": \"Foo\", \"description\": \"a list of strings\", \"type\": \"array\", \"items\": {\"type\": \"string\"}}}, \"required\": [\"foo\"]}\\nthe object {\"foo\": [\"bar\", \"baz\"]} is a well-formatted instance of the schema. The object {\"properties\": {\"foo\": [\"bar\", \"baz\"]}} is not well-formatted.\\n\\nHere is the output schema:\\n```\\n{\"properties\": {\"sub_queries\": {\"title\": \"Sub Queries\", \"description\": \"The sub queries extracted from the context_enriched_prompt\", \"type\": \"array\", \"items\": {}}}, \"required\": [\"sub_queries\"]}\\n```', 'output': '```json\\n{\\n  \"sub_queries\": [\\n    \"List all topics discussed by Alejo and Bartek in the most recent meeting.\",\\n    \"Extract any action items assigned to Alejo and Bartek from their last meeting.\",\\n    \"Identify any projects or tasks Alejo and Bartek are collaborating on as mentioned in their last meeting.\",\\n    \"Summarize the decisions made by Alejo and Bartek in their recent meeting.\"\\n  ]\\n}\\n```'}\n"
     ]
    }
   ],
   "source": [
    "\n",
    "Rag_sub_queries = Rag_agent_executor.invoke({\"input\":input ,\n",
    "                       \"chat_history\": [], \n",
    "                       \"format_instructions\":parser.get_format_instructions()})\n",
    "print(Rag_sub_queries)\n",
    "\n",
    "\n",
    "\n",
    "\n"
   ]
  },
  {
   "cell_type": "code",
   "execution_count": 65,
   "metadata": {},
   "outputs": [
    {
     "name": "stdout",
     "output_type": "stream",
     "text": [
      "List all topics discussed by Alejo and Bartek in the most recent meeting.\n",
      "Extract any action items assigned to Alejo and Bartek from their last meeting.\n",
      "Identify any projects or tasks Alejo and Bartek are collaborating on as mentioned in their last meeting.\n",
      "Summarize the decisions made by Alejo and Bartek in their recent meeting.\n"
     ]
    }
   ],
   "source": [
    "Rag_query= Rag_sub_queries[\"output\"]\n",
    "\n",
    "# Remove the markdown code block syntax (```json and ```) from the string\n",
    "Rag_query_cleaned = Rag_query.replace('```json\\n', '').replace('\\n```', '')\n",
    "\n",
    "# Convert the JSON string into a dictionary\n",
    "Rag_query_dict = json.loads(Rag_query_cleaned)\n",
    "\n",
    "# Extract the sub-queries\n",
    "sub_queries = Rag_query_dict[\"sub_queries\"]\n",
    "\n",
    "# Now you can access each sub-query by its index\n",
    "sub_query_1 = sub_queries[0]\n",
    "sub_query_2 = sub_queries[1]\n",
    "sub_query_3 = sub_queries[2]\n",
    "sub_query_4 = sub_queries[3]\n",
    "\n",
    "# Display the extracted sub-queries\n",
    "print(sub_query_1)\n",
    "print(sub_query_2)\n",
    "print(sub_query_3)\n",
    "print(sub_query_4)\n",
    "\n"
   ]
  },
  {
   "cell_type": "markdown",
   "metadata": {},
   "source": [
    "MULTIQUERY"
   ]
  },
  {
   "cell_type": "code",
   "execution_count": 34,
   "metadata": {},
   "outputs": [],
   "source": [
    "#loading company docs\n",
    "def load_file(data):\n",
    "    loader = DirectoryLoader(\"data\",\n",
    "                    glob=\"**/*.txt\",\n",
    "                    loader_cls= TextLoader)\n",
    "    text_documents = loader.load()\n",
    "    return text_documents\n",
    "    \n",
    "\n",
    " #extract the data \n",
    "extracted_data = load_file([\"2024-03-12_Dev_Meeting_-_Knowledge_Now_summary_1.txt, 2024-03-12 Dev Meeting - Knowledge Now Final Draft 1cleaned.txt\"])\n",
    "print(extracted_data)\n"
   ]
  },
  {
   "cell_type": "code",
   "execution_count": 36,
   "metadata": {},
   "outputs": [],
   "source": [
    "#split documents into chunks\n",
    "def text_split(extracted_data):\n",
    "    text_splitter = SemanticChunker(OpenAIEmbeddings(), breakpoint_threshold_type=\"percentile\")\n",
    "    documents = text_splitter.split_documents(extracted_data)\n",
    "\n",
    "    return documents\n",
    "\n",
    "text_chunk = text_split(extracted_data)\n",
    "print(\"The length of the chunk:\", len(text_chunk))"
   ]
  },
  {
   "cell_type": "code",
   "execution_count": 54,
   "metadata": {},
   "outputs": [],
   "source": [
    "#creating embeddings\n",
    "\n",
    "model_name = \"text-embedding-3-large\"\n",
    "def data_embedding():\n",
    "    embeddings = OpenAIEmbeddings(model=model_name)\n",
    "    return embeddings\n",
    "\n",
    "embeddings = data_embedding()"
   ]
  },
  {
   "cell_type": "code",
   "execution_count": 41,
   "metadata": {},
   "outputs": [],
   "source": [
    "#initializing Vectorstore\n",
    "Pinecone_api_key = os.getenv(\"PINECONE_API_KEY\")\n",
    "Your_env = \"gcp-starter\"\n",
    "index_name = \"knowledgenow\""
   ]
  },
  {
   "cell_type": "code",
   "execution_count": 43,
   "metadata": {},
   "outputs": [],
   "source": [
    "#Adding embeddings into the vectorstore\n",
    "vectorstore = PineconeVectorStore.from_documents(text_chunk, embeddings, index_name=index_name)"
   ]
  },
  {
   "cell_type": "code",
   "execution_count": 55,
   "metadata": {},
   "outputs": [
    {
     "ename": "NameError",
     "evalue": "name 'vectorstore' is not defined",
     "output_type": "error",
     "traceback": [
      "\u001b[1;31m---------------------------------------------------------------------------\u001b[0m",
      "\u001b[1;31mNameError\u001b[0m                                 Traceback (most recent call last)",
      "Cell \u001b[1;32mIn[55], line 2\u001b[0m\n\u001b[0;32m      1\u001b[0m \u001b[38;5;66;03m#initializing retrival\u001b[39;00m\n\u001b[1;32m----> 2\u001b[0m retriver \u001b[38;5;241m=\u001b[39m \u001b[43mvectorstore\u001b[49m\u001b[38;5;241m.\u001b[39mas_retriever(search_kwargs\u001b[38;5;241m=\u001b[39m{\u001b[38;5;124m'\u001b[39m\u001b[38;5;124mk\u001b[39m\u001b[38;5;124m'\u001b[39m:\u001b[38;5;241m25\u001b[39m})\n\u001b[0;32m      3\u001b[0m multi_llm \u001b[38;5;241m=\u001b[39m ChatOpenAI(temperature\u001b[38;5;241m=\u001b[39m \u001b[38;5;241m0.5\u001b[39m)\n\u001b[0;32m      4\u001b[0m \u001b[38;5;66;03m#Adding mutli query retriver\u001b[39;00m\n",
      "\u001b[1;31mNameError\u001b[0m: name 'vectorstore' is not defined"
     ]
    }
   ],
   "source": [
    "#initializing retrival\n",
    "retriver = vectorstore.as_retriever(search_kwargs={'k':25})\n",
    "multi_llm = ChatOpenAI(temperature= 0.5)\n",
    "#Adding mutli query retriver\n",
    "retriever = MultiQueryRetriever.from_llm(\n",
    "    retriever=retriver, llm=multi_llm\n",
    ")\n",
    "logging.basicConfig()\n",
    "logging.getLogger(\"langchain.retrievers.multi_query\").setLevel(logging.INFO)"
   ]
  },
  {
   "cell_type": "code",
   "execution_count": null,
   "metadata": {},
   "outputs": [],
   "source": [
    "#retrieval chain\n",
    "qa = RetrievalQAWithSourcesChain.from_chain_type(\n",
    "    llm=llm, \n",
    "    chain_type=\"stuff\", \n",
    "    retriever=retriever\n",
    ")\n"
   ]
  },
  {
   "cell_type": "markdown",
   "metadata": {},
   "source": [
    "KNOWLEDGEBASE QUERY AGENT"
   ]
  },
  {
   "cell_type": "code",
   "execution_count": 65,
   "metadata": {},
   "outputs": [],
   "source": [
    "#creating a custom tool\n",
    "@tool\n",
    "def Knowledgebase(query:str)-> str:\n",
    "    \"\"\"\n",
    "    Use this tool when you want extract information from the Knowledgenow database\"\"\"\n",
    "    result_str = qa.invoke(sub_query)\n",
    "    return result_str\n",
    "\n"
   ]
  },
  {
   "cell_type": "code",
   "execution_count": 66,
   "metadata": {},
   "outputs": [],
   "source": [
    "tools = [Knowledgebase]"
   ]
  },
  {
   "cell_type": "code",
   "execution_count": 59,
   "metadata": {},
   "outputs": [],
   "source": [
    "#Knowledgebase_system prompt\n",
    "\n",
    "Knowledgebase_template = prompts.Knowledgebase_template\n",
    "\n",
    "Knowledgebase_prompt = PromptTemplate.from_template(template=Knowledgebase_template, MessagePlaceholder=[\"(agent_scratchpad)\"])\n"
   ]
  },
  {
   "cell_type": "code",
   "execution_count": 60,
   "metadata": {},
   "outputs": [],
   "source": [
    "Knowledgebase_agent = create_react_agent(llm=llm, tools=tools, prompt=Knowledgebase_prompt)"
   ]
  },
  {
   "cell_type": "code",
   "execution_count": 61,
   "metadata": {},
   "outputs": [],
   "source": [
    "Knowledgebase_agent_executor = AgentExecutor(agent=Knowledgebase_agent, tools=tools, verbose=True,handle_parsing_errors=True, max_iterations=8)"
   ]
  },
  {
   "cell_type": "code",
   "execution_count": 64,
   "metadata": {},
   "outputs": [
    {
     "ename": "NameError",
     "evalue": "name 'sub_query_1' is not defined",
     "output_type": "error",
     "traceback": [
      "\u001b[1;31m---------------------------------------------------------------------------\u001b[0m",
      "\u001b[1;31mNameError\u001b[0m                                 Traceback (most recent call last)",
      "Cell \u001b[1;32mIn[64], line 1\u001b[0m\n\u001b[1;32m----> 1\u001b[0m Knowledgebase_agent_output\u001b[38;5;241m=\u001b[39m Knowledgebase_agent_executor\u001b[38;5;241m.\u001b[39minvoke({\u001b[38;5;124m\"\u001b[39m\u001b[38;5;124msub_query\u001b[39m\u001b[38;5;124m\"\u001b[39m: \u001b[43msub_query_1\u001b[49m})\n",
      "\u001b[1;31mNameError\u001b[0m: name 'sub_query_1' is not defined"
     ]
    }
   ],
   "source": [
    "Knowledgebase_agent_output= Knowledgebase_agent_executor.invoke({\"sub_query\": sub_query_1})"
   ]
  },
  {
   "cell_type": "code",
   "execution_count": 83,
   "metadata": {},
   "outputs": [
    {
     "name": "stdout",
     "output_type": "stream",
     "text": [
      "\n",
      "\n",
      "\u001b[1m> Entering new AgentExecutor chain...\u001b[0m\n",
      "\u001b[32;1m\u001b[1;3mI need to query the KnowledgeNow database to find information about any action items that were assigned to Alejo and Bartek during the meeting.\n",
      "\n",
      "Action: Knowledgebase\n",
      "Action Input: \"What action items were assigned to Alejo and Bartek during the meeting?\"\n",
      "\u001b[0m"
     ]
    },
    {
     "name": "stderr",
     "output_type": "stream",
     "text": [
      "INFO:langchain.retrievers.multi_query:Generated queries: ['1. What were the main topics covered by Alejo and Bartek during their meeting?', '2. Can you provide a summary of the topics that Alejo and Bartek talked about in their meeting?', '3. What subjects were on the agenda for the meeting between Alejo and Bartek?']\n"
     ]
    },
    {
     "name": "stdout",
     "output_type": "stream",
     "text": [
      "\u001b[36;1m\u001b[1;3m{'question': 'List all topics discussed by Alejo and Bartek in the meeting.', 'answer': 'Alejo and Bartek discussed several topics during their meeting, including:\\n\\n1. Technical issues and audio problems at the start of the meeting.\\n2. The outcome of a development meeting related to a specific system they are working on, including ensuring clarity on tasks, brainstorming ideas, potentially using a bot to measure messages, and the importance of each team member understanding their tasks for success.\\n3. A workshop for educators and youth workers, training for facilitation, public speaking skills, and a five-day youth program.\\n4. Opportunities for speaking at events about AI directed at high school graduates interested in AI.\\n5. The concept of balance in our lives, especially concerning technology, and finding technology-free spaces for programs.\\n6. The development of a deck for clients named Pablo and coding inspiration.\\n7. The communication framework for PFA, exploring crew AI, and ensuring everyone is on the same page for decision-making.\\n8. The use of an AI companion for meeting summaries and the detailed explanation of the \"knowledge now\" system, including various components like the PFA context enrichment agent, rag extractor agent, evaluator agent, QA agent, oversight board agent, self-refinement agent, merger agent, and answer formatting agent.\\n9. Assignments related to the \"knowledge now\" system and personalized outreach.\\n10. The real estate project, including project distribution, project leadership team setup, marketing efforts, lead generation, profit sharing, and cost considerations.\\n11. Preparing prompts for the MVP of the \"knowledge now\" system, including the answer agent, global context, knowledge base, and discord bot web.\\n12. Assigning team members to specific tasks.\\n\\n', 'sources': ''}\u001b[0m\u001b[32;1m\u001b[1;3mI now know the final answer\n",
      "\n",
      "Final Answer: The observation does not directly list the specific action items assigned to Alejo and Bartek during the meeting. However, it mentions that they discussed assigning team members to specific tasks among other topics. To get the exact action items assigned to Alejo and Bartek, a more focused query or access to detailed minutes of the meeting would be necessary.\u001b[0m\n",
      "\n",
      "\u001b[1m> Finished chain.\u001b[0m\n"
     ]
    }
   ],
   "source": [
    "Knowledgebase_agent_output_2= Knowledgebase_agent_executor.invoke({\"sub_query\": sub_query_2})"
   ]
  },
  {
   "cell_type": "code",
   "execution_count": 85,
   "metadata": {},
   "outputs": [
    {
     "name": "stdout",
     "output_type": "stream",
     "text": [
      "\n",
      "\n",
      "\u001b[1m> Entering new AgentExecutor chain...\u001b[0m\n",
      "\u001b[32;1m\u001b[1;3mThought: To answer this query, I need to search the KnowledgeNow database for documents or records of meetings where Alejo and Bartek made decisions. I will focus on extracting specific decisions attributed to these individuals.\n",
      "\n",
      "Action: Knowledgebase\n",
      "\n",
      "Action Input: Decisions made by Alejo and Bartek in the meeting\n",
      "\u001b[0m"
     ]
    },
    {
     "name": "stderr",
     "output_type": "stream",
     "text": [
      "INFO:langchain.retrievers.multi_query:Generated queries: ['1. What were the main topics covered by Alejo and Bartek during the meeting?', '2. Can you provide a summary of the topics that Alejo and Bartek talked about in their meeting?', '3. What were the key discussion points between Alejo and Bartek in the meeting?']\n"
     ]
    },
    {
     "name": "stdout",
     "output_type": "stream",
     "text": [
      "\u001b[36;1m\u001b[1;3m{'question': 'List all topics discussed by Alejo and Bartek in the meeting.', 'answer': \"Alejo and Bartek discussed several topics in their meeting, including:\\n\\n1. The outcome of a development meeting related to a specific system they are working on, focusing on ensuring clarity on tasks, brainstorming ideas, potentially using a bot to measure messages, and emphasizing the importance of each team member understanding their tasks within the system for success.\\n2. A one-day workshop for educators and youth workers, training for facilitation, public speaking skills, learning how to deliver the curriculum, and a five-day youth program with middle school students.\\n3. Their relationship with technology and finding balance in our lives with technology playing a significant role. They also discussed the possibility of hosting workshops on building a project with Chat GBT.\\n4. The real estate project, including project distribution, leadership team setup, marketing efforts, and profit sharing.\\n5. The development of 'Knowledge Now,' including its components like the AI companion, PFA context enrichment agent, rag extractor agent, evaluator agent, QA agent, oversight board agent, self-refinement agent, merger agent, answer formatting agent, and answer evaluation agent. They also discussed the MVP use case for 'Knowledge Now,' which involves messaging the bot to catch up on meetings and get clarity on assignments.\\n\\n\", 'sources': 'data\\\\2024-03-18 Dev Meeting - KnowledgeNow MVP steps, Kuba output reviewcleaned.txt, data\\\\2024-03-12-Dev-Meeting-Knowledge-Now-Transcrpt-2.txt, data\\\\2024-03-01 Paige, Bartek, Pawel - Plans and Updates for Real Estatecleaned.txt, data\\\\2024-03-13 Dev Meeting - KnowledgeNow Assignmentscleaned.txt, data\\\\2024-03-05 Advocates Meeting - Profit Sharing, Real Estate Projectcleaned.txt'}\u001b[0m\u001b[32;1m\u001b[1;3mI now know the final answer\n",
      "\n",
      "Final Answer: Alejo and Bartek made several decisions during their meeting, focusing on various topics such as:\n",
      "\n",
      "1. Ensuring clarity on tasks, brainstorming ideas, and potentially using a bot to measure messages for a development meeting related to a specific system they are working on. They emphasized the importance of each team member understanding their tasks within the system for success.\n",
      "2. Planning a one-day workshop for educators and youth workers, which includes training for facilitation, public speaking skills, and learning how to deliver the curriculum. They also discussed a five-day youth program with middle school students.\n",
      "3. Discussing their relationship with technology and the balance in our lives with technology playing a significant role. They considered hosting workshops on building a project with Chat GBT.\n",
      "4. Discussing the real estate project, including project distribution, leadership team setup, marketing efforts, and profit sharing.\n",
      "5. The development of 'Knowledge Now,' including its components like the AI companion, PFA context enrichment agent, rag extractor agent, evaluator agent, QA agent, oversight board agent, self-refinement agent, merger agent, answer formatting agent, and answer evaluation agent. They also discussed the MVP use case for 'Knowledge Now,' which involves messaging the bot to catch up on meetings and get clarity on assignments.\u001b[0m\n",
      "\n",
      "\u001b[1m> Finished chain.\u001b[0m\n"
     ]
    }
   ],
   "source": [
    "Knowledgebase_agent_output_3= Knowledgebase_agent_executor.invoke({\"sub_query\": sub_query_3})"
   ]
  },
  {
   "cell_type": "code",
   "execution_count": 87,
   "metadata": {},
   "outputs": [
    {
     "name": "stdout",
     "output_type": "stream",
     "text": [
      "\n",
      "\n",
      "\u001b[1m> Entering new AgentExecutor chain...\u001b[0m\n",
      "\u001b[32;1m\u001b[1;3mI need to find the summary of key points Alejo and Bartek agreed upon during their meeting from the KnowledgeNow database.\n",
      "\n",
      "Action: Knowledgebase\n",
      "\n",
      "Action Input: Summarize the key points Alejo and Bartek agreed upon during the meeting.\n",
      "\u001b[0m"
     ]
    },
    {
     "name": "stderr",
     "output_type": "stream",
     "text": [
      "INFO:langchain.retrievers.multi_query:Generated queries: ['1. What were the main topics covered by Alejo and Bartek during the meeting?', '2. Can you provide a summary of the topics that Alejo and Bartek talked about in the meeting?', '3. What were the key discussion points between Alejo and Bartek in their meeting?']\n"
     ]
    },
    {
     "name": "stdout",
     "output_type": "stream",
     "text": [
      "\u001b[36;1m\u001b[1;3m{'question': 'List all topics discussed by Alejo and Bartek in the meeting.', 'answer': 'Alejo and Bartek discussed several topics in their meeting, including:\\n\\n1. The outcome of a development meeting related to a specific system they are working on, focusing on task clarity, brainstorming ideas, potentially using a bot to measure messages, and ensuring each team member understands their tasks for success.\\n2. Public speaking skills and delivering curriculum, as part of a workshop for educators and youth workers, and a five-day youth program.\\n3. Their relationship with technology and finding balance in life, especially considering technology\\'s significant role.\\n4. The possibility of hosting workshops on building a project with Chat GPT, seeking donations for tech education tools like iPads or computers.\\n5. Real estate project details, including project distribution, leadership team setup, and profit sharing.\\n6. The development and discussion of a communication framework and the concept of \"Crew AI.\"\\n7. The importance of an evaluator agent in their system to ensure relevance and accuracy in their AI\\'s output.\\n8. Updates on real estate automations, including working with Follow Up Boss CRM, profit sharing clarifications, and content automation ideas integrating Notion with Relevance AI.\\n9. The concept of a \"swarm\" or feedback loop for improving prompt generation and structure in their AI system.\\n\\n', 'sources': 'data\\\\2024-03-18 Dev Meeting - KnowledgeNow MVP steps, Kuba output reviewcleaned.txt, data\\\\2024-03-12-Dev-Meeting-Knowledge-Now-Transcrpt-2.txt, data\\\\2024-03-01 Paige, Bartek, Pawel - Plans and Updates for Real Estatecleaned.txt, data\\\\2024-03-13 Dev Meeting - KnowledgeNow Assignmentscleaned.txt, data\\\\2024-03-05 Advocates Meeting - Profit Sharing, Real Estate Projectcleaned.txt, data\\\\2024-03-01 Dev Meeting - New Client Projects, Real Estate, Google Calendar automation, Follow up boss automationcleaned.txt'}\u001b[0m\u001b[32;1m\u001b[1;3mI now know the final answer.\n",
      "\n",
      "Final Answer: Alejo and Bartek agreed upon several key points during their meeting, including:\n",
      "\n",
      "1. The outcome of a development meeting focusing on task clarity, brainstorming ideas, potentially using a bot to measure messages, and ensuring each team member understands their tasks for success.\n",
      "2. Public speaking skills and delivering curriculum for educators and youth workers, and a five-day youth program.\n",
      "3. Their relationship with technology and finding balance in life, given technology's significant role.\n",
      "4. Hosting workshops on building a project with Chat GPT and seeking donations for tech education tools like iPads or computers.\n",
      "5. Real estate project details, including project distribution, leadership team setup, and profit sharing.\n",
      "6. The development and discussion of a communication framework and the concept of \"Crew AI.\"\n",
      "7. The importance of an evaluator agent in their system to ensure relevance and accuracy in their AI's output.\n",
      "8. Updates on real estate automations, including working with Follow Up Boss CRM, profit sharing clarifications, and content automation ideas integrating Notion with Relevance AI.\n",
      "9. The concept of a \"swarm\" or feedback loop for improving prompt generation and structure in their AI system.\u001b[0m\n",
      "\n",
      "\u001b[1m> Finished chain.\u001b[0m\n"
     ]
    }
   ],
   "source": [
    "Knowledgebase_agent_output_4= Knowledgebase_agent_executor.invoke({\"sub_query\": sub_query_4})"
   ]
  },
  {
   "cell_type": "code",
   "execution_count": 63,
   "metadata": {},
   "outputs": [
    {
     "ename": "NameError",
     "evalue": "name 'Knowledgebase_agent_output' is not defined",
     "output_type": "error",
     "traceback": [
      "\u001b[1;31m---------------------------------------------------------------------------\u001b[0m",
      "\u001b[1;31mNameError\u001b[0m                                 Traceback (most recent call last)",
      "Cell \u001b[1;32mIn[63], line 1\u001b[0m\n\u001b[1;32m----> 1\u001b[0m Knowledgebase_answer_1 \u001b[38;5;241m=\u001b[39m \u001b[43mKnowledgebase_agent_output\u001b[49m[\u001b[38;5;124m\"\u001b[39m\u001b[38;5;124moutput\u001b[39m\u001b[38;5;124m\"\u001b[39m]\n\u001b[0;32m      2\u001b[0m Knowledgebase_answer_2 \u001b[38;5;241m=\u001b[39m Knowledgebase_agent_output_2[\u001b[38;5;124m\"\u001b[39m\u001b[38;5;124moutput\u001b[39m\u001b[38;5;124m\"\u001b[39m]\n\u001b[0;32m      3\u001b[0m Knowledgebase_answer_3\u001b[38;5;241m=\u001b[39m Knowledgebase_agent_output_3[\u001b[38;5;124m\"\u001b[39m\u001b[38;5;124moutput\u001b[39m\u001b[38;5;124m\"\u001b[39m]\n",
      "\u001b[1;31mNameError\u001b[0m: name 'Knowledgebase_agent_output' is not defined"
     ]
    }
   ],
   "source": [
    "Knowledgebase_answer_1 = Knowledgebase_agent_output[\"output\"]\n",
    "Knowledgebase_answer_2 = Knowledgebase_agent_output_2[\"output\"]\n",
    "Knowledgebase_answer_3= Knowledgebase_agent_output_3[\"output\"]\n",
    "Knowledgebase_answer_4= Knowledgebase_agent_output_4[\"output\"]\n"
   ]
  },
  {
   "cell_type": "code",
   "execution_count": 62,
   "metadata": {},
   "outputs": [
    {
     "ename": "NameError",
     "evalue": "name 'Knowledgebase_answer_1' is not defined",
     "output_type": "error",
     "traceback": [
      "\u001b[1;31m---------------------------------------------------------------------------\u001b[0m",
      "\u001b[1;31mNameError\u001b[0m                                 Traceback (most recent call last)",
      "Cell \u001b[1;32mIn[62], line 1\u001b[0m\n\u001b[1;32m----> 1\u001b[0m combined_output_list \u001b[38;5;241m=\u001b[39m [\u001b[43mKnowledgebase_answer_1\u001b[49m, Knowledgebase_answer_2, Knowledgebase_answer_3, Knowledgebase_answer_4]\n\u001b[0;32m      2\u001b[0m \u001b[38;5;28mprint\u001b[39m(combined_output_list)\n",
      "\u001b[1;31mNameError\u001b[0m: name 'Knowledgebase_answer_1' is not defined"
     ]
    }
   ],
   "source": [
    "combined_output_list = [Knowledgebase_answer_1, Knowledgebase_answer_2, Knowledgebase_answer_3, Knowledgebase_answer_4]\n",
    "print(combined_output_list)\n"
   ]
  },
  {
   "cell_type": "markdown",
   "metadata": {},
   "source": [
    "Evaluator Agent"
   ]
  },
  {
   "cell_type": "code",
   "execution_count": 112,
   "metadata": {},
   "outputs": [],
   "source": [
    "#creating a custom tool\n",
    "@tool\n",
    "def Vectormatches(query:str)-> str:\n",
    "    \"\"\"\n",
    "    Use this tool when you want to return vector match results for the vectordatabase\"\"\"\n",
    "    global combined_output_list\n",
    "    return combined_output_list"
   ]
  },
  {
   "cell_type": "code",
   "execution_count": 122,
   "metadata": {},
   "outputs": [],
   "source": [
    "evaluator_template = prompts.evaluator_template\n",
    "\n",
    "evaluator_prompt = PromptTemplate.from_template(template=evaluator_template, MessagePlaceholder=[\"(agent_scratchpad)\"])"
   ]
  },
  {
   "cell_type": "code",
   "execution_count": 123,
   "metadata": {},
   "outputs": [],
   "source": [
    "\n",
    "evaluator_agent = create_react_agent(llm=llm, tools=tools, prompt=evaluator_prompt)"
   ]
  },
  {
   "cell_type": "code",
   "execution_count": 124,
   "metadata": {},
   "outputs": [],
   "source": [
    "evaluator_agent_executor = AgentExecutor(agent=evaluator_agent, tools=tools, verbose=True,handle_parsing_errors=True, max_iterations=8)"
   ]
  },
  {
   "cell_type": "code",
   "execution_count": 125,
   "metadata": {},
   "outputs": [
    {
     "name": "stdout",
     "output_type": "stream",
     "text": [
      "\n",
      "\n",
      "\u001b[1m> Entering new AgentExecutor chain...\u001b[0m\n",
      "\u001b[32;1m\u001b[1;3mGiven the detailed vector matches and the enriched prompt, it's clear that Alejo and Bartek's meeting was multifaceted, covering a broad range of topics that align with Fasterise's strategic goals and operational projects. The discussions spanned from system development specifics, the KnowledgeNow project, real estate initiatives, to broader themes like technology's role in life and education. These discussions reflect the intersection of their expertise in operations, sales, development, and engineering, resonating with the company's mission to leverage AI technology to amplify human potential and its commitment to ethical AI development.\n",
      "\n",
      "To synthesize a comprehensive narrative, I'll integrate the key points from the vector matches with the global context of Fasterise, focusing on how these discussions contribute to the company's projects like KnowledgeNow and the Personalized Outreach System, and how they embody the company's values of innovation, ethical AI use, and human-centered design.\n",
      "\n",
      "The discussions on system development, the role of evaluator agents, and the concept of \"Crew AI\" highlight the technical rigor and innovative approach Bartek and Alejo are applying to their projects. Their focus on clarity of tasks and the use of bots for message measurement indicates a commitment to operational efficiency and the enhancement of team collaboration, which is crucial for the success of complex AI projects.\n",
      "\n",
      "The planning of workshops for educators and youth workers, along with discussions on public speaking skills and curriculum delivery, aligns with Fasterise's vision of empowering and educating, showcasing the company's commitment to societal impact through AI.\n",
      "\n",
      "The real estate project discussions, including leadership, profit sharing, and marketing efforts, reflect the company's strategic approach to integrating AI solutions in various industries, aiming to improve efficiency and amplify human capabilities.\n",
      "\n",
      "Given these insights, the contextually re-ranked list of vector matches prioritizes discussions that directly contribute to Fasterise's ongoing projects and strategic goals, such as the development of KnowledgeNow and the Personalized Outreach System, followed by initiatives that align with the company's mission of societal impact and education through AI.\n",
      "\n",
      "Final Answer: Alejo and Bartek's meeting covered a wide array of topics, central to which were the development and implementation of AI technologies within Fasterise's projects like KnowledgeNow and the Personalized Outreach System. They discussed system development specifics, the role of evaluator agents, the concept of \"Crew AI,\" and the integration of various agents to enhance operational efficiency and team collaboration. Additionally, they explored initiatives aimed at societal impact, including educational workshops for educators and youth workers, and strategic discussions on the real estate project, emphasizing leadership, profit sharing, and marketing. These discussions underscore their collaborative efforts to align with Fasterise's mission of leveraging AI to amplify human potential, guided by ethical AI development and a human-centered approach.\u001b[0m\n",
      "\n",
      "\u001b[1m> Finished chain.\u001b[0m\n"
     ]
    }
   ],
   "source": [
    "Evalutor_output=evaluator_agent_executor.invoke({\n",
    "        \"input\":input, \n",
    "        \"global_context\": global_context, \n",
    "        \"enriched_prompt\": Enriched_prompt,\n",
    "        \"Vector_matches\": combined_output_list})"
   ]
  },
  {
   "cell_type": "code",
   "execution_count": 126,
   "metadata": {},
   "outputs": [
    {
     "name": "stdout",
     "output_type": "stream",
     "text": [
      "Alejo and Bartek's meeting covered a wide array of topics, central to which were the development and implementation of AI technologies within Fasterise's projects like KnowledgeNow and the Personalized Outreach System. They discussed system development specifics, the role of evaluator agents, the concept of \"Crew AI,\" and the integration of various agents to enhance operational efficiency and team collaboration. Additionally, they explored initiatives aimed at societal impact, including educational workshops for educators and youth workers, and strategic discussions on the real estate project, emphasizing leadership, profit sharing, and marketing. These discussions underscore their collaborative efforts to align with Fasterise's mission of leveraging AI to amplify human potential, guided by ethical AI development and a human-centered approach.\n"
     ]
    }
   ],
   "source": [
    "Evaluator_agent_output=Evalutor_output[\"output\"]\n",
    "print(Evaluator_agent_output)"
   ]
  },
  {
   "cell_type": "markdown",
   "metadata": {},
   "source": [
    "ANSWER AGENT"
   ]
  },
  {
   "cell_type": "code",
   "execution_count": 129,
   "metadata": {},
   "outputs": [],
   "source": [
    "#creating a custom tool\n",
    "@tool\n",
    "def Evaluator_result(query:str)-> str:\n",
    "    \"\"\"\n",
    "    Use this tool anytime you need to return  Re-ranked and evaluated data results from the Evaluator assistant \"\"\"\n",
    "    global Evaluator_agent_output\n",
    "    return Evaluator_agent_output"
   ]
  },
  {
   "cell_type": "code",
   "execution_count": 136,
   "metadata": {},
   "outputs": [],
   "source": [
    "Answer_template = prompts.Answer_template\n",
    "\n",
    "Answer_prompt = PromptTemplate.from_template(template=Answer_template, MessagePlaceholder=[\"(agent_scratchpad)\"])"
   ]
  },
  {
   "cell_type": "code",
   "execution_count": 137,
   "metadata": {},
   "outputs": [],
   "source": [
    "Answer_agent = create_react_agent(llm=llm, tools=tools, prompt=Answer_prompt)"
   ]
  },
  {
   "cell_type": "code",
   "execution_count": 138,
   "metadata": {},
   "outputs": [],
   "source": [
    "Answer_agent_executor = AgentExecutor(agent=Answer_agent, tools=tools, verbose=True,handle_parsing_errors=True, max_iterations=8)"
   ]
  },
  {
   "cell_type": "code",
   "execution_count": 139,
   "metadata": {},
   "outputs": [
    {
     "name": "stdout",
     "output_type": "stream",
     "text": [
      "\n",
      "\n",
      "\u001b[1m> Entering new AgentExecutor chain...\u001b[0m\n",
      "\u001b[32;1m\u001b[1;3mGiven the enriched context surrounding Fasterise's mission and the specific roles of Alejo and Bartek within the company, it's clear that their meeting would have revolved around critical aspects of ongoing and future projects, particularly those that intersect their areas of expertise. Here's a synthesized overview of what Alejo and Bartek likely discussed, based on the available information:\n",
      "\n",
      "### Meeting Discussion Points between Alejo and Bartek\n",
      "\n",
      "1. **Integration of AI Technologies**: They likely explored strategies for incorporating RAG, LLMs, and Multi-Agent Systems into Fasterise's current projects like KnowledgeNow and the Personalized Outreach System. This discussion would align with the company's mission to leverage AI for amplifying human potential and its commitment to ethical AI development.\n",
      "\n",
      "2. **Operational Efficiency and Customer Experience**: Given Alejo's focus on operations, sales, and development, and Bartek's expertise in engineering and system design, their conversation probably included ways to enhance operational efficiency and improve customer experience through the application of AI technologies in Fasterise's projects.\n",
      "\n",
      "3. **Project Implementation Challenges**: Addressing potential challenges in implementing these AI technologies within Fasterise's infrastructure, ensuring they align with the company's ethical standards and enhance rather than replace human work.\n",
      "\n",
      "4. **Future AI Applications**: They might have discussed exploring new areas where AI can have a transformative impact, in line with Fasterise's future direction. This could include brainstorming about innovative solutions that could be developed to address societal needs and business challenges.\n",
      "\n",
      "5. **Collaboration and Knowledge Sharing**: Considering the collaborative culture at Fasterise, Alejo and Bartek likely discussed ways to foster a more integrated team effort in project development, leveraging their respective teams' strengths to achieve the company's strategic goals.\n",
      "\n",
      "6. **Technical and Operational Roadmaps**: Crafting detailed roadmaps for the technical development and operational deployment of the discussed AI technologies, ensuring that these plans align with Fasterise's mission and vision.\n",
      "\n",
      "This overview encapsulates the probable focal points of Alejo and Bartek's meeting, reflecting Fasterise's overarching goals of ethical AI development, human potential amplification, and societal impact through innovative AI applications.\u001b[0mInvalid Format: Missing 'Action:' after 'Thought:\u001b[32;1m\u001b[1;3mGiven the enriched context surrounding Fasterise's mission and the specific roles of Alejo and Bartek within the company, it's clear that their meeting would have revolved around critical aspects of ongoing and future projects, particularly those that intersect their areas of expertise. Here's a synthesized overview of what Alejo and Bartek likely discussed, based on the available information:\n",
      "\n",
      "### Meeting Discussion Points between Alejo and Bartek\n",
      "\n",
      "1. **Integration of AI Technologies**: They likely explored strategies for incorporating RAG, LLMs, and Multi-Agent Systems into Fasterise's current projects like KnowledgeNow and the Personalized Outreach System. This discussion would align with the company's mission to leverage AI for amplifying human potential and its commitment to ethical AI development.\n",
      "\n",
      "2. **Operational Efficiency and Customer Experience**: Given Alejo's focus on operations, sales, and development, and Bartek's expertise in engineering and system design, their conversation probably included ways to enhance operational efficiency and improve customer experience through the application of AI technologies in Fasterise's projects.\n",
      "\n",
      "3. **Project Implementation Challenges**: Addressing potential challenges in implementing these AI technologies within Fasterise's infrastructure, ensuring they align with the company's ethical standards and enhance rather than replace human work.\n",
      "\n",
      "4. **Future AI Applications**: They might have discussed exploring new areas where AI can have a transformative impact, in line with Fasterise's future direction. This could include brainstorming about innovative solutions that could be developed to address societal needs and business challenges.\n",
      "\n",
      "5. **Collaboration and Knowledge Sharing**: Considering the collaborative culture at Fasterise, Alejo and Bartek likely discussed ways to foster a more integrated team effort in project development, leveraging their respective teams' strengths to achieve the company's strategic goals.\n",
      "\n",
      "6. **Technical and Operational Roadmaps**: Crafting detailed roadmaps for the technical development and operational deployment of the discussed AI technologies, ensuring that these plans align with Fasterise's mission and vision.\n",
      "\n",
      "This overview encapsulates the probable focal points of Alejo and Bartek's meeting, reflecting Fasterise's overarching goals of ethical AI development, human potential amplification, and societal impact through innovative AI applications.\u001b[0mInvalid Format: Missing 'Action:' after 'Thought:\u001b[32;1m\u001b[1;3mGiven the detailed context provided about Fasterise's mission, the roles of Alejo and Bartek, and the enriched prompt, it's evident that their meeting discussions were pivotal to the strategic direction and operational execution of the company's projects. The synthesized information highlights the intersection of their expertise in operations, sales, development, engineering, and system design, all within the framework of ethical AI development and human potential amplification. Here's a comprehensive summary of the discussions between Alejo and Bartek, structured to reflect the company's objectives and the collaborative culture at Fasterise.\n",
      "\n",
      "### Final Answer: Meeting Discussion Points between Alejo and Bartek at Fasterise\n",
      "\n",
      "1. **Integration of AI Technologies**\n",
      "   - **Objective**: Strategize the incorporation of RAG, LLMs, and Multi-Agent Systems into ongoing projects like KnowledgeNow and the Personalized Outreach System.\n",
      "   - **Alignment**: This aligns with Fasterise's mission to leverage AI technology to amplify human potential while adhering to ethical AI development principles.\n",
      "\n",
      "2. **Operational Efficiency and Customer Experience**\n",
      "   - **Objective**: Identify ways to enhance operational efficiency and customer experience through AI technologies.\n",
      "   - **Approach**: Leveraging Alejo's expertise in operations, sales, and development alongside Bartek's engineering and system design skills.\n",
      "\n",
      "3. **Project Implementation Challenges**\n",
      "   - **Objective**: Tackle potential challenges in implementing AI technologies within Fasterise's infrastructure.\n",
      "   - **Focus**: Ensuring implementations align with the company's ethical standards and enhance rather than replace human work.\n",
      "\n",
      "4. **Future AI Applications**\n",
      "   - **Objective**: Explore new areas for AI's transformative impact, consistent with Fasterise's future direction.\n",
      "   - **Innovation**: Brainstorming innovative solutions to address societal needs and business challenges.\n",
      "\n",
      "5. **Collaboration and Knowledge Sharing**\n",
      "   - **Objective**: Foster a more integrated team effort in project development.\n",
      "   - **Culture**: Leveraging the collaborative culture at Fasterise, drawing on the strengths of respective teams to achieve strategic goals.\n",
      "\n",
      "6. **Technical and Operational Roadmaps**\n",
      "   - **Objective**: Develop detailed roadmaps for the technical development and operational deployment of AI technologies.\n",
      "   - **Alignment**: Ensuring these plans are in harmony with Fasterise's mission and vision for ethical AI development and human potential amplification.\n",
      "\n",
      "This summary encapsulates the critical discussion points between Alejo and Bartek, reflecting Fasterise's overarching goals of ethical AI development, human potential amplification, and societal impact through innovative AI applications. Their collaboration exemplifies the company's commitment to leveraging AI technology to address complex challenges across various sectors, aiming for significant societal impact and leading by example in the ethical use and development of AI.\u001b[0m\n",
      "\n",
      "\u001b[1m> Finished chain.\u001b[0m\n"
     ]
    }
   ],
   "source": [
    "Answer_output=Answer_agent_executor.invoke({\n",
    "        \"input\":input, \n",
    "        \"global_context\": global_context, \n",
    "        \"enriched_prompt\": Enriched_prompt})"
   ]
  },
  {
   "cell_type": "code",
   "execution_count": 141,
   "metadata": {},
   "outputs": [
    {
     "name": "stdout",
     "output_type": "stream",
     "text": [
      "Meeting Discussion Points between Alejo and Bartek at Fasterise\n",
      "\n",
      "1. **Integration of AI Technologies**\n",
      "   - **Objective**: Strategize the incorporation of RAG, LLMs, and Multi-Agent Systems into ongoing projects like KnowledgeNow and the Personalized Outreach System.\n",
      "   - **Alignment**: This aligns with Fasterise's mission to leverage AI technology to amplify human potential while adhering to ethical AI development principles.\n",
      "\n",
      "2. **Operational Efficiency and Customer Experience**\n",
      "   - **Objective**: Identify ways to enhance operational efficiency and customer experience through AI technologies.\n",
      "   - **Approach**: Leveraging Alejo's expertise in operations, sales, and development alongside Bartek's engineering and system design skills.\n",
      "\n",
      "3. **Project Implementation Challenges**\n",
      "   - **Objective**: Tackle potential challenges in implementing AI technologies within Fasterise's infrastructure.\n",
      "   - **Focus**: Ensuring implementations align with the company's ethical standards and enhance rather than replace human work.\n",
      "\n",
      "4. **Future AI Applications**\n",
      "   - **Objective**: Explore new areas for AI's transformative impact, consistent with Fasterise's future direction.\n",
      "   - **Innovation**: Brainstorming innovative solutions to address societal needs and business challenges.\n",
      "\n",
      "5. **Collaboration and Knowledge Sharing**\n",
      "   - **Objective**: Foster a more integrated team effort in project development.\n",
      "   - **Culture**: Leveraging the collaborative culture at Fasterise, drawing on the strengths of respective teams to achieve strategic goals.\n",
      "\n",
      "6. **Technical and Operational Roadmaps**\n",
      "   - **Objective**: Develop detailed roadmaps for the technical development and operational deployment of AI technologies.\n",
      "   - **Alignment**: Ensuring these plans are in harmony with Fasterise's mission and vision for ethical AI development and human potential amplification.\n",
      "\n",
      "This summary encapsulates the critical discussion points between Alejo and Bartek, reflecting Fasterise's overarching goals of ethical AI development, human potential amplification, and societal impact through innovative AI applications. Their collaboration exemplifies the company's commitment to leveraging AI technology to address complex challenges across various sectors, aiming for significant societal impact and leading by example in the ethical use and development of AI.\n"
     ]
    }
   ],
   "source": [
    "Answer_agent_output = Answer_output[\"output\"]\n",
    "print(Answer_agent_output)"
   ]
  },
  {
   "cell_type": "code",
   "execution_count": 142,
   "metadata": {},
   "outputs": [],
   "source": [
    "\n",
    "#conversational memory \n",
    "conversational_memory = ConversationBufferWindowMemory(\n",
    "    memory_key=\"chat_history\",\n",
    "    k=5,\n",
    "    return_messages=True\n",
    "\n",
    ")\n",
    "conversational_memory.chat_memory.messages\n",
    "conversational_memory.chat_memory.add_user_message(input)\n",
    "conversational_memory.chat_memory.add_ai_message(Answer_agent_output)"
   ]
  },
  {
   "cell_type": "code",
   "execution_count": 145,
   "metadata": {},
   "outputs": [],
   "source": [
    "\n",
    "def memory2str(memory:ConversationBufferWindowMemory):\n",
    "    messages = memory.chat_memory.messages\n",
    "    memory_list = [\n",
    "        f\"Human: {mem.content}\" for mem in messages \n",
    "    ]\n",
    "    memory_str = \"/n\".join(memory_list)\n",
    "    return memory_str"
   ]
  },
  {
   "cell_type": "code",
   "execution_count": 152,
   "metadata": {},
   "outputs": [],
   "source": [
    "def chat(text:str):\n",
    "    Answer_agent_executor.invoke({\n",
    "        \"input\":input, \n",
    "        \"global_context\": global_context, \n",
    "        \"enriched_prompt\": Enriched_prompt})\n",
    "    conversational_memory.chat_memory.add_user_message(text)\n",
    "    conversational_memory.chat_memory.add_ai_message(Answer_agent_output)\n",
    "    return Answer_agent_output"
   ]
  },
  {
   "cell_type": "code",
   "execution_count": 153,
   "metadata": {},
   "outputs": [
    {
     "name": "stdout",
     "output_type": "stream",
     "text": [
      "\n",
      "\n",
      "\u001b[1m> Entering new AgentExecutor chain...\u001b[0m\n",
      "\u001b[32;1m\u001b[1;3mGiven the enriched context and the focus areas of Alejo and Bartek at Fasterise, it's reasonable to infer that their meeting discussion revolved around the strategic integration of AI technologies within Fasterise's current and upcoming projects. Specifically, they likely deliberated on how to effectively apply RAG, LLMs, and Multi-Agent Systems to enhance the KnowledgeNow and Personalized Outreach System projects. This aligns with Fasterise's overarching mission of leveraging AI to amplify human potential while adhering to ethical AI development principles. Their conversation would have been a blend of technical planning, operational strategy, and possibly, the exploration of new AI applications that could further Fasterise's goals of operational efficiency, improved customer experience, and societal impact through AI innovation.\n",
      "\n",
      "### Key Discussion Points:\n",
      "- **Integration of AI Technologies**: Alejo and Bartek likely discussed the technical aspects of incorporating RAG, LLMs, and Multi-Agent Systems into Fasterise's projects, focusing on overcoming challenges and maximizing the potential of these technologies.\n",
      "- **Operational Efficiency and Customer Experience**: They probably explored strategies to enhance operational processes and customer interactions through AI, particularly within the KnowledgeNow and Personalized Outreach System projects.\n",
      "- **Ethical AI Development**: Given Fasterise's commitment to ethical AI, their conversation would have included considerations on how to ensure these technologies are developed and implemented in a way that aligns with ethical standards and amplifies human capabilities without replacing human work.\n",
      "- **Future AI Applications**: They might have also discussed potential new areas where AI can be applied to drive societal impact, in line with Fasterise's vision of exploring transformative AI applications across various industries.\n",
      "\n",
      "### Conclusion:\n",
      "Alejo and Bartek's meeting was a strategic convergence of their expertise in operations, sales, development, and engineering, aimed at advancing Fasterise's mission through the thoughtful integration of AI technologies. Their discussion underscores the company's commitment to innovation, ethical AI development, and the pursuit of projects that not only enhance operational efficiency and customer experience but also contribute to societal betterment through AI.\u001b[0mInvalid Format: Missing 'Action:' after 'Thought:\u001b[32;1m\u001b[1;3mGiven the enriched context and the strategic roles of Alejo and Bartek at Fasterise, it's clear that their meeting was a significant discussion on the integration and application of AI technologies within the company's projects. Drawing from the global context of Fasterise's mission and the specific areas of expertise of Alejo and Bartek, we can deduce that their conversation was both technical and strategic, focusing on how to leverage AI to amplify human potential while adhering to ethical AI development principles.\n",
      "\n",
      "### Meeting Discussion Overview\n",
      "\n",
      "- **Integration of AI Technologies**: Alejo and Bartek likely delved into the technical specifics of incorporating RAG, LLMs, and Multi-Agent Systems into Fasterise's projects. Their discussion would have covered the challenges and opportunities of these technologies, aiming to maximize their potential to enhance the company's offerings.\n",
      "  \n",
      "- **Operational Efficiency and Customer Experience**: A significant part of their conversation probably revolved around using AI to improve operational processes and customer interactions. Given the ongoing projects like KnowledgeNow and the Personalized Outreach System, they would have explored strategies to make these systems more efficient and user-friendly.\n",
      "  \n",
      "- **Ethical AI Development**: Consistent with Fasterise's commitment, Alejo and Bartek's discussion would have included considerations on developing and implementing AI technologies ethically. This involves ensuring that these technologies augment rather than replace human capabilities and adhere to ethical standards.\n",
      "  \n",
      "- **Future AI Applications**: They might have also discussed exploring new areas for AI application that align with Fasterise's vision of societal impact. This includes identifying opportunities where AI can address complex challenges across various sectors, furthering the company's mission of leveraging AI for societal betterment.\n",
      "\n",
      "### Conclusion\n",
      "\n",
      "The meeting between Alejo and Bartek was a strategic alignment of their expertise, focusing on advancing Fasterise's mission through the thoughtful integration of AI technologies. Their discussion highlights the company's dedication to innovation, ethical AI development, and the pursuit of projects that enhance operational efficiency, improve customer experience, and contribute to societal betterment through AI.\n",
      "\n",
      "This synthesis of their meeting underscores the collaborative spirit at Fasterise, where team members bring together their diverse skills and perspectives to drive the company forward in its mission to amplify human potential with AI.\u001b[0mInvalid Format: Missing 'Action:' after 'Thought:\u001b[32;1m\u001b[1;3mGiven the enriched context and the strategic roles of Alejo and Bartek at Fasterise, it's clear that their meeting was a significant discussion on the integration and application of AI technologies within the company's projects. Drawing from the global context of Fasterise's mission and the specific areas of expertise of Alejo and Bartek, we can deduce that their conversation was both technical and strategic, focusing on how to leverage AI to amplify human potential while adhering to ethical AI development principles.\n",
      "\n",
      "### Meeting Discussion Overview\n",
      "\n",
      "- **Integration of AI Technologies**: Alejo and Bartek likely delved into the technical specifics of incorporating RAG, LLMs, and Multi-Agent Systems into Fasterise's projects. Their discussion would have covered the challenges and opportunities of these technologies, aiming to maximize their potential to enhance the company's offerings.\n",
      "  \n",
      "- **Operational Efficiency and Customer Experience**: A significant part of their conversation probably revolved around using AI to improve operational processes and customer interactions. Given the ongoing projects like KnowledgeNow and the Personalized Outreach System, they would have explored strategies to make these systems more efficient and user-friendly.\n",
      "  \n",
      "- **Ethical AI Development**: Consistent with Fasterise's commitment, Alejo and Bartek's discussion would have included considerations on developing and implementing AI technologies ethically. This involves ensuring that these technologies augment rather than replace human capabilities and adhere to ethical standards.\n",
      "  \n",
      "- **Future AI Applications**: They might have also discussed exploring new areas for AI application that align with Fasterise's vision of societal impact. This includes identifying opportunities where AI can address complex challenges across various sectors, furthering the company's mission of leveraging AI for societal betterment.\n",
      "\n",
      "### Conclusion\n",
      "\n",
      "The meeting between Alejo and Bartek was a strategic alignment of their expertise, focusing on advancing Fasterise's mission through the thoughtful integration of AI technologies. Their discussion highlights the company's dedication to innovation, ethical AI development, and the pursuit of projects that enhance operational efficiency, improve customer experience, and contribute to societal betterment through AI.\n",
      "\n",
      "This synthesis of their meeting underscores the collaborative spirit at Fasterise, where team members bring together their diverse skills and perspectives to drive the company forward in its mission to amplify human potential with AI.\u001b[0mInvalid Format: Missing 'Action:' after 'Thought:\u001b[32;1m\u001b[1;3mGiven the comprehensive insights derived from the enriched context and strategic roles of Alejo and Bartek at Fasterise, it's evident that their meeting was a pivotal discussion focused on the integration and application of AI technologies within the company's projects. Drawing from the global context of Fasterise's mission and the specific areas of expertise of Alejo and Bartek, we can conclude that their conversation was both technical and strategic, emphasizing how to leverage AI to amplify human potential while adhering to ethical AI development principles.\n",
      "\n",
      "### Meeting Discussion Overview\n",
      "\n",
      "- **Integration of AI Technologies**: Alejo and Bartek engaged in a detailed exploration of incorporating RAG, LLMs, and Multi-Agent Systems into Fasterise's projects. Their dialogue likely spanned the challenges and opportunities presented by these technologies, with a goal to maximize their potential in enhancing the company's offerings.\n",
      "\n",
      "- **Operational Efficiency and Customer Experience**: A significant portion of their conversation was probably dedicated to leveraging AI to streamline operational processes and enrich customer interactions. With ongoing projects like KnowledgeNow and the Personalized Outreach System in mind, strategies to augment these systems for greater efficiency and user engagement were likely discussed.\n",
      "\n",
      "- **Ethical AI Development**: Aligning with Fasterise's core values, the discussion between Alejo and Bartek would have encompassed the ethical development and implementation of AI technologies. This includes a focus on augmenting rather than replacing human capabilities and adhering to ethical standards in AI development.\n",
      "\n",
      "- **Future AI Applications**: The conversation also ventured into potential new domains for AI application that resonate with Fasterise's vision for societal impact. Identifying opportunities where AI can tackle complex challenges across various sectors was likely a topic, furthering the company's mission of leveraging AI for societal betterment.\n",
      "\n",
      "### Conclusion\n",
      "\n",
      "The meeting between Alejo and Bartek represented a strategic convergence of their expertise, aimed at propelling Fasterise's mission forward through the thoughtful integration of AI technologies. Their discussion is a testament to the company's commitment to innovation, ethical AI development, and the pursuit of projects that not only enhance operational efficiency and customer experience but also contribute to societal advancement through AI.\n",
      "\n",
      "This synthesis of their meeting highlights the collaborative ethos at Fasterise, where team members unite their diverse skills and perspectives to advance the company's mission of amplifying human potential with AI.\u001b[0mInvalid Format: Missing 'Action:' after 'Thought:\u001b[32;1m\u001b[1;3mGiven the comprehensive insights derived from the enriched context and strategic roles of Alejo and Bartek at Fasterise, it's evident that their meeting was a pivotal discussion focused on the integration and application of AI technologies within the company's projects. Drawing from the global context of Fasterise's mission and the specific areas of expertise of Alejo and Bartek, we can conclude that their conversation was both technical and strategic, emphasizing how to leverage AI to amplify human potential while adhering to ethical AI development principles.\n",
      "\n",
      "### Meeting Discussion Overview\n",
      "\n",
      "- **Integration of AI Technologies**: Alejo and Bartek engaged in a detailed exploration of incorporating RAG, LLMs, and Multi-Agent Systems into Fasterise's projects. Their dialogue likely spanned the challenges and opportunities presented by these technologies, with a goal to maximize their potential in enhancing the company's offerings.\n",
      "\n",
      "- **Operational Efficiency and Customer Experience**: A significant portion of their conversation was probably dedicated to leveraging AI to streamline operational processes and enrich customer interactions. With ongoing projects like KnowledgeNow and the Personalized Outreach System in mind, strategies to augment these systems for greater efficiency and user engagement were likely discussed.\n",
      "\n",
      "- **Ethical AI Development**: Aligning with Fasterise's core values, the discussion between Alejo and Bartek would have encompassed the ethical development and implementation of AI technologies. This includes a focus on augmenting rather than replacing human capabilities and adhering to ethical standards in AI development.\n",
      "\n",
      "- **Future AI Applications**: The conversation also ventured into potential new domains for AI application that resonate with Fasterise's vision for societal impact. Identifying opportunities where AI can tackle complex challenges across various sectors was likely a topic, furthering the company's mission of leveraging AI for societal betterment.\n",
      "\n",
      "### Conclusion\n",
      "\n",
      "The meeting between Alejo and Bartek represented a strategic convergence of their expertise, aimed at propelling Fasterise's mission forward through the thoughtful integration of AI technologies. Their discussion is a testament to the company's commitment to innovation, ethical AI development, and the pursuit of projects that not only enhance operational efficiency and customer experience but also contribute to societal advancement through AI.\n",
      "\n",
      "This synthesis of their meeting highlights the collaborative ethos at Fasterise, where team members unite their diverse skills and perspectives to advance the company's mission of amplifying human potential with AI.\u001b[0mInvalid Format: Missing 'Action:' after 'Thought:\u001b[32;1m\u001b[1;3mGiven the comprehensive insights derived from the enriched context and strategic roles of Alejo and Bartek at Fasterise, it's evident that their meeting was a pivotal discussion focused on the integration and application of AI technologies within the company's projects. Drawing from the global context of Fasterise's mission and the specific areas of expertise of Alejo and Bartek, we can conclude that their conversation was both technical and strategic, emphasizing how to leverage AI to amplify human potential while adhering to ethical AI development principles.\n",
      "\n",
      "### Meeting Discussion Overview\n",
      "\n",
      "- **Integration of AI Technologies**: Alejo and Bartek engaged in a detailed exploration of incorporating RAG, LLMs, and Multi-Agent Systems into Fasterise's projects. Their dialogue likely spanned the challenges and opportunities presented by these technologies, with a goal to maximize their potential in enhancing the company's offerings.\n",
      "\n",
      "- **Operational Efficiency and Customer Experience**: A significant portion of their conversation was probably dedicated to leveraging AI to streamline operational processes and enrich customer interactions. With ongoing projects like KnowledgeNow and the Personalized Outreach System in mind, strategies to augment these systems for greater efficiency and user engagement were likely discussed.\n",
      "\n",
      "- **Ethical AI Development**: Aligning with Fasterise's core values, the discussion between Alejo and Bartek would have encompassed the ethical development and implementation of AI technologies. This includes a focus on augmenting rather than replacing human capabilities and adhering to ethical standards in AI development.\n",
      "\n",
      "- **Future AI Applications**: The conversation also ventured into potential new domains for AI application that resonate with Fasterise's vision for societal impact. Identifying opportunities where AI can tackle complex challenges across various sectors was likely a topic, furthering the company's mission of leveraging AI for societal betterment.\n",
      "\n",
      "### Conclusion\n",
      "\n",
      "The meeting between Alejo and Bartek represented a strategic convergence of their expertise, aimed at propelling Fasterise's mission forward through the thoughtful integration of AI technologies. Their discussion is a testament to the company's commitment to innovation, ethical AI development, and the pursuit of projects that not only enhance operational efficiency and customer experience but also contribute to societal advancement through AI.\n",
      "\n",
      "This synthesis of their meeting highlights the collaborative ethos at Fasterise, where team members unite their diverse skills and perspectives to advance the company's mission of amplifying human potential with AI.\u001b[0mInvalid Format: Missing 'Action:' after 'Thought:"
     ]
    },
    {
     "ename": "",
     "evalue": "",
     "output_type": "error",
     "traceback": [
      "\u001b[1;31mThe Kernel crashed while executing code in the current cell or a previous cell. \n",
      "\u001b[1;31mPlease review the code in the cell(s) to identify a possible cause of the failure. \n",
      "\u001b[1;31mClick <a href='https://aka.ms/vscodeJupyterKernelCrash'>here</a> for more info. \n",
      "\u001b[1;31mView Jupyter <a href='command:jupyter.viewOutput'>log</a> for further details."
     ]
    }
   ],
   "source": [
    "chat({\"input\":\"what are the things they said about the project knowledgenow\"})"
   ]
  }
 ],
 "metadata": {
  "kernelspec": {
   "display_name": "Python 3",
   "language": "python",
   "name": "python3"
  },
  "language_info": {
   "codemirror_mode": {
    "name": "ipython",
    "version": 3
   },
   "file_extension": ".py",
   "mimetype": "text/x-python",
   "name": "python",
   "nbconvert_exporter": "python",
   "pygments_lexer": "ipython3",
   "version": "3.8.10"
  }
 },
 "nbformat": 4,
 "nbformat_minor": 2
}
